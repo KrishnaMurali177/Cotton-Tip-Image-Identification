{
 "cells": [
  {
   "cell_type": "code",
   "execution_count": 1,
   "metadata": {
    "id": "Y3P92HBger8s"
   },
   "outputs": [],
   "source": [
    "import numpy as np\n",
    "import os\n",
    "import PIL\n",
    "import tensorflow as tf\n",
    "import glob\n",
    "import pandas as pd\n",
    "import cv2\n",
    "import matplotlib.pyplot as plt\n",
    "from PIL import Image, ImageDraw\n",
    "import json\n",
    "from object_detection.utils import dataset_util\n",
    "from collections import namedtuple, OrderedDict"
   ]
  },
  {
   "cell_type": "code",
   "execution_count": 2,
   "metadata": {},
   "outputs": [],
   "source": [
    "%matplotlib inline"
   ]
  },
  {
   "cell_type": "code",
   "execution_count": 3,
   "metadata": {},
   "outputs": [],
   "source": [
    "os.environ['TF_FORCE_GPU_ALLOW_GROWTH'] = 'true'"
   ]
  },
  {
   "cell_type": "code",
   "execution_count": 13,
   "metadata": {
    "id": "wRHDRTfwUTBj"
   },
   "outputs": [],
   "source": [
    "df = pd.read_csv('obj-det/Training/train.csv')\n",
    "df.set_index('image', inplace=True)\n",
    "final_boxes = []\n",
    "w_box = []\n",
    "h_box = []\n",
    "for img in df.index:\n",
    "  current_image = Image.open('obj-det/Training/'+img)\n",
    "  width, height = current_image.size\n",
    "  box = json.loads(df.loc[img]['tips'])\n",
    "  boxes = []\n",
    "  for item in box:\n",
    "    xmin = int(item.get('x1'))\n",
    "    ymin = int(item.get('y1'))\n",
    "    xmax = int(item.get('x2'))\n",
    "    ymax = int(item.get('y2'))\n",
    "    coors = [xmin, ymin, xmax, ymax]\n",
    "    boxes.append(coors)\n",
    "  final_boxes.append(boxes)\n",
    "  w_box.append(width)\n",
    "  h_box.append(height)\n",
    "df['box'] = final_boxes\n",
    "df['height'] = w_box\n",
    "df['width'] = h_box\n"
   ]
  },
  {
   "cell_type": "code",
   "execution_count": 24,
   "metadata": {},
   "outputs": [
    {
     "data": {
      "text/html": [
       "<div>\n",
       "<style scoped>\n",
       "    .dataframe tbody tr th:only-of-type {\n",
       "        vertical-align: middle;\n",
       "    }\n",
       "\n",
       "    .dataframe tbody tr th {\n",
       "        vertical-align: top;\n",
       "    }\n",
       "\n",
       "    .dataframe thead th {\n",
       "        text-align: right;\n",
       "    }\n",
       "</style>\n",
       "<table border=\"1\" class=\"dataframe\">\n",
       "  <thead>\n",
       "    <tr style=\"text-align: right;\">\n",
       "      <th></th>\n",
       "      <th>filename</th>\n",
       "      <th>tips</th>\n",
       "      <th>box</th>\n",
       "      <th>height</th>\n",
       "      <th>width</th>\n",
       "      <th>xmin</th>\n",
       "      <th>ymin</th>\n",
       "      <th>xmax</th>\n",
       "      <th>ymax</th>\n",
       "      <th>class</th>\n",
       "    </tr>\n",
       "  </thead>\n",
       "  <tbody>\n",
       "    <tr>\n",
       "      <th>0</th>\n",
       "      <td>GH_0.jpg</td>\n",
       "      <td>[{\"x1\": 1570, \"y1\": 833, \"x2\": 1711, \"y2\": 974...</td>\n",
       "      <td>[1570, 833, 1711, 974]</td>\n",
       "      <td>2560</td>\n",
       "      <td>1920</td>\n",
       "      <td>1570</td>\n",
       "      <td>833</td>\n",
       "      <td>1711</td>\n",
       "      <td>974</td>\n",
       "      <td>tip</td>\n",
       "    </tr>\n",
       "    <tr>\n",
       "      <th>0</th>\n",
       "      <td>GH_0.jpg</td>\n",
       "      <td>[{\"x1\": 1570, \"y1\": 833, \"x2\": 1711, \"y2\": 974...</td>\n",
       "      <td>[177, 980, 318, 1121]</td>\n",
       "      <td>2560</td>\n",
       "      <td>1920</td>\n",
       "      <td>177</td>\n",
       "      <td>980</td>\n",
       "      <td>318</td>\n",
       "      <td>1121</td>\n",
       "      <td>tip</td>\n",
       "    </tr>\n",
       "    <tr>\n",
       "      <th>0</th>\n",
       "      <td>GH_0.jpg</td>\n",
       "      <td>[{\"x1\": 1570, \"y1\": 833, \"x2\": 1711, \"y2\": 974...</td>\n",
       "      <td>[787, 727, 928, 868]</td>\n",
       "      <td>2560</td>\n",
       "      <td>1920</td>\n",
       "      <td>787</td>\n",
       "      <td>727</td>\n",
       "      <td>928</td>\n",
       "      <td>868</td>\n",
       "      <td>tip</td>\n",
       "    </tr>\n",
       "    <tr>\n",
       "      <th>0</th>\n",
       "      <td>GH_0.jpg</td>\n",
       "      <td>[{\"x1\": 1570, \"y1\": 833, \"x2\": 1711, \"y2\": 974...</td>\n",
       "      <td>[74, 694, 215, 835]</td>\n",
       "      <td>2560</td>\n",
       "      <td>1920</td>\n",
       "      <td>74</td>\n",
       "      <td>694</td>\n",
       "      <td>215</td>\n",
       "      <td>835</td>\n",
       "      <td>tip</td>\n",
       "    </tr>\n",
       "    <tr>\n",
       "      <th>0</th>\n",
       "      <td>GH_0.jpg</td>\n",
       "      <td>[{\"x1\": 1570, \"y1\": 833, \"x2\": 1711, \"y2\": 974...</td>\n",
       "      <td>[1827, 646, 1968, 787]</td>\n",
       "      <td>2560</td>\n",
       "      <td>1920</td>\n",
       "      <td>1827</td>\n",
       "      <td>646</td>\n",
       "      <td>1968</td>\n",
       "      <td>787</td>\n",
       "      <td>tip</td>\n",
       "    </tr>\n",
       "  </tbody>\n",
       "</table>\n",
       "</div>"
      ],
      "text/plain": [
       "   filename                                               tips  \\\n",
       "0  GH_0.jpg  [{\"x1\": 1570, \"y1\": 833, \"x2\": 1711, \"y2\": 974...   \n",
       "0  GH_0.jpg  [{\"x1\": 1570, \"y1\": 833, \"x2\": 1711, \"y2\": 974...   \n",
       "0  GH_0.jpg  [{\"x1\": 1570, \"y1\": 833, \"x2\": 1711, \"y2\": 974...   \n",
       "0  GH_0.jpg  [{\"x1\": 1570, \"y1\": 833, \"x2\": 1711, \"y2\": 974...   \n",
       "0  GH_0.jpg  [{\"x1\": 1570, \"y1\": 833, \"x2\": 1711, \"y2\": 974...   \n",
       "\n",
       "                      box  height  width  xmin  ymin  xmax  ymax class  \n",
       "0  [1570, 833, 1711, 974]    2560   1920  1570   833  1711   974   tip  \n",
       "0   [177, 980, 318, 1121]    2560   1920   177   980   318  1121   tip  \n",
       "0    [787, 727, 928, 868]    2560   1920   787   727   928   868   tip  \n",
       "0     [74, 694, 215, 835]    2560   1920    74   694   215   835   tip  \n",
       "0  [1827, 646, 1968, 787]    2560   1920  1827   646  1968   787   tip  "
      ]
     },
     "execution_count": 24,
     "metadata": {},
     "output_type": "execute_result"
    }
   ],
   "source": [
    "df.head()"
   ]
  },
  {
   "cell_type": "code",
   "execution_count": 25,
   "metadata": {
    "colab": {
     "base_uri": "https://localhost:8080/",
     "height": 405
    },
    "id": "XH1BBIEj-okV",
    "outputId": "7a02752d-247c-49ca-dcb3-3027f2a66e27"
   },
   "outputs": [
    {
     "name": "stdout",
     "output_type": "stream",
     "text": [
      "[446, 1420, 587, 1561]\n",
      "[851, 1288, 992, 1429]\n",
      "[871, 1293, 1012, 1434]\n",
      "[984, 693, 1125, 834]\n",
      "[1146, 304, 1287, 445]\n",
      "[1275, 421, 1416, 562]\n",
      "[805, 979, 946, 1120]\n",
      "[913, 969, 1054, 1110]\n"
     ]
    },
    {
     "data": {
      "image/png": "[encoded data removed]",
      "text/plain": [
       "<Figure size 432x288 with 1 Axes>"
      ]
     },
     "metadata": {
      "needs_background": "light"
     },
     "output_type": "display_data"
    }
   ],
   "source": [
    "b = df.loc[df['filename'] == 'GH_30.jpg']['box']\n",
    "for label in b:\n",
    "    if label[0] < 0:\n",
    "        break\n",
    "    print(label)\n",
    "    xmin, ymin, xmax, ymax = label\n",
    "    rect = plt.Rectangle((xmin, ymin), xmax - xmin, ymax - ymin, fill=False, edgecolor=(1, 0, 0), linewidth=3)\n",
    "    plt.gca().add_patch(rect)\n",
    "plt.imshow(img_array, cmap='gray')\n",
    "plt.show()"
   ]
  },
  {
   "cell_type": "code",
   "execution_count": 14,
   "metadata": {
    "colab": {
     "base_uri": "https://localhost:8080/",
     "height": 235
    },
    "id": "OJy_A_SIz-cY",
    "outputId": "4346be1f-b5a3-4522-bfb2-34b54490ca72"
   },
   "outputs": [
    {
     "data": {
      "text/html": [
       "<div>\n",
       "<style scoped>\n",
       "    .dataframe tbody tr th:only-of-type {\n",
       "        vertical-align: middle;\n",
       "    }\n",
       "\n",
       "    .dataframe tbody tr th {\n",
       "        vertical-align: top;\n",
       "    }\n",
       "\n",
       "    .dataframe thead th {\n",
       "        text-align: right;\n",
       "    }\n",
       "</style>\n",
       "<table border=\"1\" class=\"dataframe\">\n",
       "  <thead>\n",
       "    <tr style=\"text-align: right;\">\n",
       "      <th></th>\n",
       "      <th>tips</th>\n",
       "      <th>box</th>\n",
       "      <th>height</th>\n",
       "      <th>width</th>\n",
       "    </tr>\n",
       "    <tr>\n",
       "      <th>image</th>\n",
       "      <th></th>\n",
       "      <th></th>\n",
       "      <th></th>\n",
       "      <th></th>\n",
       "    </tr>\n",
       "  </thead>\n",
       "  <tbody>\n",
       "    <tr>\n",
       "      <th>GH_0.jpg</th>\n",
       "      <td>[{\"x1\": 1570, \"y1\": 833, \"x2\": 1711, \"y2\": 974...</td>\n",
       "      <td>[[1570, 833, 1711, 974], [177, 980, 318, 1121]...</td>\n",
       "      <td>2560</td>\n",
       "      <td>1920</td>\n",
       "    </tr>\n",
       "    <tr>\n",
       "      <th>GH_1.jpg</th>\n",
       "      <td>[{\"x1\": 1794, \"y1\": 1497, \"x2\": 1935, \"y2\": 16...</td>\n",
       "      <td>[[1794, 1497, 1935, 1638], [2334, 1088, 2475, ...</td>\n",
       "      <td>2560</td>\n",
       "      <td>1920</td>\n",
       "    </tr>\n",
       "    <tr>\n",
       "      <th>GH_2.jpg</th>\n",
       "      <td>[{\"x1\": 1650, \"y1\": 496, \"x2\": 1791, \"y2\": 637...</td>\n",
       "      <td>[[1650, 496, 1791, 637], [1879, 897, 2020, 103...</td>\n",
       "      <td>2560</td>\n",
       "      <td>1920</td>\n",
       "    </tr>\n",
       "    <tr>\n",
       "      <th>GH_3.jpg</th>\n",
       "      <td>[{\"x1\": 360, \"y1\": 877, \"x2\": 501, \"y2\": 1018}...</td>\n",
       "      <td>[[360, 877, 501, 1018], [288, 1113, 429, 1254]...</td>\n",
       "      <td>2560</td>\n",
       "      <td>1920</td>\n",
       "    </tr>\n",
       "    <tr>\n",
       "      <th>GH_4.jpg</th>\n",
       "      <td>[{\"x1\": 1351, \"y1\": 609, \"x2\": 1492, \"y2\": 750...</td>\n",
       "      <td>[[1351, 609, 1492, 750], [1171, 1108, 1312, 12...</td>\n",
       "      <td>2560</td>\n",
       "      <td>1920</td>\n",
       "    </tr>\n",
       "  </tbody>\n",
       "</table>\n",
       "</div>"
      ],
      "text/plain": [
       "                                                       tips  \\\n",
       "image                                                         \n",
       "GH_0.jpg  [{\"x1\": 1570, \"y1\": 833, \"x2\": 1711, \"y2\": 974...   \n",
       "GH_1.jpg  [{\"x1\": 1794, \"y1\": 1497, \"x2\": 1935, \"y2\": 16...   \n",
       "GH_2.jpg  [{\"x1\": 1650, \"y1\": 496, \"x2\": 1791, \"y2\": 637...   \n",
       "GH_3.jpg  [{\"x1\": 360, \"y1\": 877, \"x2\": 501, \"y2\": 1018}...   \n",
       "GH_4.jpg  [{\"x1\": 1351, \"y1\": 609, \"x2\": 1492, \"y2\": 750...   \n",
       "\n",
       "                                                        box  height  width  \n",
       "image                                                                       \n",
       "GH_0.jpg  [[1570, 833, 1711, 974], [177, 980, 318, 1121]...    2560   1920  \n",
       "GH_1.jpg  [[1794, 1497, 1935, 1638], [2334, 1088, 2475, ...    2560   1920  \n",
       "GH_2.jpg  [[1650, 496, 1791, 637], [1879, 897, 2020, 103...    2560   1920  \n",
       "GH_3.jpg  [[360, 877, 501, 1018], [288, 1113, 429, 1254]...    2560   1920  \n",
       "GH_4.jpg  [[1351, 609, 1492, 750], [1171, 1108, 1312, 12...    2560   1920  "
      ]
     },
     "execution_count": 14,
     "metadata": {},
     "output_type": "execute_result"
    }
   ],
   "source": [
    "df.head()"
   ]
  },
  {
   "cell_type": "code",
   "execution_count": 15,
   "metadata": {
    "colab": {
     "base_uri": "https://localhost:8080/"
    },
    "id": "wvo9lJyKzNxm",
    "outputId": "2fdf27c4-9f31-47f1-a9c0-3ed1640e321c"
   },
   "outputs": [],
   "source": [
    "df.reset_index(inplace=True)"
   ]
  },
  {
   "cell_type": "code",
   "execution_count": 16,
   "metadata": {},
   "outputs": [],
   "source": [
    "df = df.explode('box')"
   ]
  },
  {
   "cell_type": "code",
   "execution_count": 17,
   "metadata": {
    "colab": {
     "base_uri": "https://localhost:8080/"
    },
    "id": "yIH_R7vOXpww",
    "outputId": "4faae8c6-83c0-4951-fd2d-d902c04f59fe"
   },
   "outputs": [
    {
     "data": {
      "text/html": [
       "<div>\n",
       "<style scoped>\n",
       "    .dataframe tbody tr th:only-of-type {\n",
       "        vertical-align: middle;\n",
       "    }\n",
       "\n",
       "    .dataframe tbody tr th {\n",
       "        vertical-align: top;\n",
       "    }\n",
       "\n",
       "    .dataframe thead th {\n",
       "        text-align: right;\n",
       "    }\n",
       "</style>\n",
       "<table border=\"1\" class=\"dataframe\">\n",
       "  <thead>\n",
       "    <tr style=\"text-align: right;\">\n",
       "      <th></th>\n",
       "      <th>image</th>\n",
       "      <th>tips</th>\n",
       "      <th>box</th>\n",
       "      <th>height</th>\n",
       "      <th>width</th>\n",
       "    </tr>\n",
       "  </thead>\n",
       "  <tbody>\n",
       "    <tr>\n",
       "      <th>0</th>\n",
       "      <td>GH_0.jpg</td>\n",
       "      <td>[{\"x1\": 1570, \"y1\": 833, \"x2\": 1711, \"y2\": 974...</td>\n",
       "      <td>[1570, 833, 1711, 974]</td>\n",
       "      <td>2560</td>\n",
       "      <td>1920</td>\n",
       "    </tr>\n",
       "    <tr>\n",
       "      <th>0</th>\n",
       "      <td>GH_0.jpg</td>\n",
       "      <td>[{\"x1\": 1570, \"y1\": 833, \"x2\": 1711, \"y2\": 974...</td>\n",
       "      <td>[177, 980, 318, 1121]</td>\n",
       "      <td>2560</td>\n",
       "      <td>1920</td>\n",
       "    </tr>\n",
       "    <tr>\n",
       "      <th>0</th>\n",
       "      <td>GH_0.jpg</td>\n",
       "      <td>[{\"x1\": 1570, \"y1\": 833, \"x2\": 1711, \"y2\": 974...</td>\n",
       "      <td>[787, 727, 928, 868]</td>\n",
       "      <td>2560</td>\n",
       "      <td>1920</td>\n",
       "    </tr>\n",
       "    <tr>\n",
       "      <th>0</th>\n",
       "      <td>GH_0.jpg</td>\n",
       "      <td>[{\"x1\": 1570, \"y1\": 833, \"x2\": 1711, \"y2\": 974...</td>\n",
       "      <td>[74, 694, 215, 835]</td>\n",
       "      <td>2560</td>\n",
       "      <td>1920</td>\n",
       "    </tr>\n",
       "    <tr>\n",
       "      <th>0</th>\n",
       "      <td>GH_0.jpg</td>\n",
       "      <td>[{\"x1\": 1570, \"y1\": 833, \"x2\": 1711, \"y2\": 974...</td>\n",
       "      <td>[1827, 646, 1968, 787]</td>\n",
       "      <td>2560</td>\n",
       "      <td>1920</td>\n",
       "    </tr>\n",
       "  </tbody>\n",
       "</table>\n",
       "</div>"
      ],
      "text/plain": [
       "      image                                               tips  \\\n",
       "0  GH_0.jpg  [{\"x1\": 1570, \"y1\": 833, \"x2\": 1711, \"y2\": 974...   \n",
       "0  GH_0.jpg  [{\"x1\": 1570, \"y1\": 833, \"x2\": 1711, \"y2\": 974...   \n",
       "0  GH_0.jpg  [{\"x1\": 1570, \"y1\": 833, \"x2\": 1711, \"y2\": 974...   \n",
       "0  GH_0.jpg  [{\"x1\": 1570, \"y1\": 833, \"x2\": 1711, \"y2\": 974...   \n",
       "0  GH_0.jpg  [{\"x1\": 1570, \"y1\": 833, \"x2\": 1711, \"y2\": 974...   \n",
       "\n",
       "                      box  height  width  \n",
       "0  [1570, 833, 1711, 974]    2560   1920  \n",
       "0   [177, 980, 318, 1121]    2560   1920  \n",
       "0    [787, 727, 928, 868]    2560   1920  \n",
       "0     [74, 694, 215, 835]    2560   1920  \n",
       "0  [1827, 646, 1968, 787]    2560   1920  "
      ]
     },
     "execution_count": 17,
     "metadata": {},
     "output_type": "execute_result"
    }
   ],
   "source": [
    "df.head()"
   ]
  },
  {
   "cell_type": "code",
   "execution_count": 18,
   "metadata": {
    "colab": {
     "base_uri": "https://localhost:8080/",
     "height": 269
    },
    "id": "1jRVg6OU5IFh",
    "outputId": "481fd7ba-ffb3-4f9d-b0f8-4b4df619defd"
   },
   "outputs": [],
   "source": [
    "df['xmin'] = [x[0] for x in df['box']]\n",
    "df['ymin'] = [x[1] for x in df['box']]\n",
    "df['xmax'] = [x[2] for x in df['box']]\n",
    "df['ymax'] = [x[3] for x in df['box']]\n",
    "df['class'] = 'tip'\n",
    "df.rename({'image':'filename'}, axis=1, inplace=True)"
   ]
  },
  {
   "cell_type": "code",
   "execution_count": 21,
   "metadata": {},
   "outputs": [],
   "source": [
    "final_df = df[['filename', 'width', 'height', 'class', 'xmin', 'ymin', 'xmax', 'ymax']]"
   ]
  },
  {
   "cell_type": "code",
   "execution_count": 22,
   "metadata": {},
   "outputs": [
    {
     "data": {
      "text/html": [
       "<div>\n",
       "<style scoped>\n",
       "    .dataframe tbody tr th:only-of-type {\n",
       "        vertical-align: middle;\n",
       "    }\n",
       "\n",
       "    .dataframe tbody tr th {\n",
       "        vertical-align: top;\n",
       "    }\n",
       "\n",
       "    .dataframe thead th {\n",
       "        text-align: right;\n",
       "    }\n",
       "</style>\n",
       "<table border=\"1\" class=\"dataframe\">\n",
       "  <thead>\n",
       "    <tr style=\"text-align: right;\">\n",
       "      <th></th>\n",
       "      <th>filename</th>\n",
       "      <th>width</th>\n",
       "      <th>height</th>\n",
       "      <th>class</th>\n",
       "      <th>xmin</th>\n",
       "      <th>ymin</th>\n",
       "      <th>xmax</th>\n",
       "      <th>ymax</th>\n",
       "    </tr>\n",
       "  </thead>\n",
       "  <tbody>\n",
       "    <tr>\n",
       "      <th>0</th>\n",
       "      <td>GH_0.jpg</td>\n",
       "      <td>1920</td>\n",
       "      <td>2560</td>\n",
       "      <td>tip</td>\n",
       "      <td>1570</td>\n",
       "      <td>833</td>\n",
       "      <td>1711</td>\n",
       "      <td>974</td>\n",
       "    </tr>\n",
       "    <tr>\n",
       "      <th>0</th>\n",
       "      <td>GH_0.jpg</td>\n",
       "      <td>1920</td>\n",
       "      <td>2560</td>\n",
       "      <td>tip</td>\n",
       "      <td>177</td>\n",
       "      <td>980</td>\n",
       "      <td>318</td>\n",
       "      <td>1121</td>\n",
       "    </tr>\n",
       "    <tr>\n",
       "      <th>0</th>\n",
       "      <td>GH_0.jpg</td>\n",
       "      <td>1920</td>\n",
       "      <td>2560</td>\n",
       "      <td>tip</td>\n",
       "      <td>787</td>\n",
       "      <td>727</td>\n",
       "      <td>928</td>\n",
       "      <td>868</td>\n",
       "    </tr>\n",
       "    <tr>\n",
       "      <th>0</th>\n",
       "      <td>GH_0.jpg</td>\n",
       "      <td>1920</td>\n",
       "      <td>2560</td>\n",
       "      <td>tip</td>\n",
       "      <td>74</td>\n",
       "      <td>694</td>\n",
       "      <td>215</td>\n",
       "      <td>835</td>\n",
       "    </tr>\n",
       "    <tr>\n",
       "      <th>0</th>\n",
       "      <td>GH_0.jpg</td>\n",
       "      <td>1920</td>\n",
       "      <td>2560</td>\n",
       "      <td>tip</td>\n",
       "      <td>1827</td>\n",
       "      <td>646</td>\n",
       "      <td>1968</td>\n",
       "      <td>787</td>\n",
       "    </tr>\n",
       "  </tbody>\n",
       "</table>\n",
       "</div>"
      ],
      "text/plain": [
       "   filename  width  height class  xmin  ymin  xmax  ymax\n",
       "0  GH_0.jpg   1920    2560   tip  1570   833  1711   974\n",
       "0  GH_0.jpg   1920    2560   tip   177   980   318  1121\n",
       "0  GH_0.jpg   1920    2560   tip   787   727   928   868\n",
       "0  GH_0.jpg   1920    2560   tip    74   694   215   835\n",
       "0  GH_0.jpg   1920    2560   tip  1827   646  1968   787"
      ]
     },
     "execution_count": 22,
     "metadata": {},
     "output_type": "execute_result"
    }
   ],
   "source": [
    "final_df.head()"
   ]
  },
  {
   "cell_type": "code",
   "execution_count": null,
   "metadata": {},
   "outputs": [],
   "source": [
    "val_df = final_df.loc[final_df['filename'].isin(['GH_430.jpg', 'GH_431.jpg', 'GH_432.jpg', 'GH_433.jpg', 'GH_434.jpg'])]"
   ]
  },
  {
   "cell_type": "code",
   "execution_count": null,
   "metadata": {},
   "outputs": [],
   "source": [
    "final_df = final_df.drop(val_df.index)"
   ]
  },
  {
   "cell_type": "code",
   "execution_count": null,
   "metadata": {},
   "outputs": [],
   "source": [
    "grouped = final_df.groupby('filename')"
   ]
  },
  {
   "cell_type": "code",
   "execution_count": null,
   "metadata": {},
   "outputs": [],
   "source": [
    "grouped.apply(lambda x: len(x)).value_counts()"
   ]
  },
  {
   "cell_type": "code",
   "execution_count": null,
   "metadata": {},
   "outputs": [],
   "source": [
    "gb = final_df.groupby('filename')"
   ]
  },
  {
   "cell_type": "code",
   "execution_count": null,
   "metadata": {},
   "outputs": [],
   "source": [
    "grouped_list = [gb.get_group(x) for x in gb.groups]"
   ]
  },
  {
   "cell_type": "code",
   "execution_count": null,
   "metadata": {},
   "outputs": [],
   "source": [
    "train = pd.concat([grouped_list[i] for i in range(0,len(grouped_list))])"
   ]
  },
  {
   "cell_type": "code",
   "execution_count": null,
   "metadata": {},
   "outputs": [],
   "source": [
    "train.to_csv('train_labels.csv', index=None)"
   ]
  },
  {
   "cell_type": "code",
   "execution_count": null,
   "metadata": {},
   "outputs": [],
   "source": [
    "grouped_val = val_df.groupby('filename')\n",
    "gb_val = val_df.groupby('filename')\n",
    "grouped_list = [gb_val.get_group(x) for x in gb_val.groups]\n",
    "val = pd.concat([grouped_list[i] for i in range(0,len(grouped_list))])"
   ]
  },
  {
   "cell_type": "code",
   "execution_count": null,
   "metadata": {},
   "outputs": [],
   "source": [
    "val.to_csv('val_labels.csv', index=None)"
   ]
  },
  {
   "cell_type": "code",
   "execution_count": null,
   "metadata": {},
   "outputs": [],
   "source": [
    "# Generating TensorFlow Dataset from the train data\n",
    "!python generate_tfrecord.py --csv_input=obj-det/Data/train_labels.csv --output_path=obj-det/Data/train.record --image_dir=obj-det/Training"
   ]
  },
  {
   "cell_type": "code",
   "execution_count": null,
   "metadata": {},
   "outputs": [],
   "source": [
    "# Generating TensorFlow Dataset from the validation data\n",
    "!python generate_tfrecord.py --csv_input=val_labels.csv --output_path=obj-det/Data/val.record --image_dir=obj-det/Validation"
   ]
  },
  {
   "cell_type": "code",
   "execution_count": null,
   "metadata": {},
   "outputs": [],
   "source": [
    "# Checking for GPUs\n",
    "gpus = tf.config.experimental.list_physical_devices('GPU')\n",
    "if gpus:\n",
    "    try:\n",
    "        # Currently, memory growth needs to be the same across GPUs\n",
    "        for gpu in gpus:\n",
    "            tf.config.experimental.set_memory_growth(gpu, True)\n",
    "        logical_gpus = tf.config.experimental.list_logical_devices('GPU')\n",
    "        print(len(gpus), \"Physical GPUs,\", len(logical_gpus), \"Logical GPUs\")\n",
    "    except RuntimeError as e:\n",
    "        # Memory growth must be set before GPUs have been initialized\n",
    "        print(e)"
   ]
  },
  {
   "cell_type": "code",
   "execution_count": null,
   "metadata": {},
   "outputs": [],
   "source": [
    "tf.__version__"
   ]
  },
  {
   "cell_type": "code",
   "execution_count": 3,
   "metadata": {},
   "outputs": [
    {
     "name": "stdout",
     "output_type": "stream",
     "text": [
      "[name: \"/device:CPU:0\"\n",
      "device_type: \"CPU\"\n",
      "memory_limit: 268435456\n",
      "locality {\n",
      "}\n",
      "incarnation: 2906438976639597420\n",
      ", name: \"/device:XLA_CPU:0\"\n",
      "device_type: \"XLA_CPU\"\n",
      "memory_limit: 17179869184\n",
      "locality {\n",
      "}\n",
      "incarnation: 4419674545827143685\n",
      "physical_device_desc: \"device: XLA_CPU device\"\n",
      ", name: \"/device:GPU:0\"\n",
      "device_type: \"GPU\"\n",
      "memory_limit: 4951408640\n",
      "locality {\n",
      "  bus_id: 1\n",
      "  links {\n",
      "  }\n",
      "}\n",
      "incarnation: 303811332186464945\n",
      "physical_device_desc: \"device: 0, name: GeForce RTX 2060, pci bus id: 0000:01:00.0, compute capability: 7.5\"\n",
      ", name: \"/device:XLA_GPU:0\"\n",
      "device_type: \"XLA_GPU\"\n",
      "memory_limit: 17179869184\n",
      "locality {\n",
      "}\n",
      "incarnation: 17075461877266148044\n",
      "physical_device_desc: \"device: XLA_GPU device\"\n",
      "]\n"
     ]
    }
   ],
   "source": [
    "# Printing available compute devices\n",
    "from tensorflow.python.client import device_lib\n",
    "print(device_lib.list_local_devices())"
   ]
  },
  {
   "cell_type": "code",
   "execution_count": null,
   "metadata": {},
   "outputs": [],
   "source": [
    "# Setting path for object detection protos\n",
    "!protoc object_detection/protos/*.proto --python_out=."
   ]
  },
  {
   "cell_type": "code",
   "execution_count": null,
   "metadata": {},
   "outputs": [],
   "source": [
    "#%set_env PYTHONPATH=/object_detection/models/research:/object_detection/models/research/slim"
   ]
  },
  {
   "cell_type": "code",
   "execution_count": null,
   "metadata": {},
   "outputs": [],
   "source": [
    "# import os\n",
    "# os.environ['PYTHONPATH'] += \":/object_detection/models\"\n",
    "# import sys\n",
    "# sys.path.append(\"/object_detection/models\")"
   ]
  },
  {
   "cell_type": "code",
   "execution_count": null,
   "metadata": {},
   "outputs": [],
   "source": [
    "# Code to fitting the model with the training data\n",
    "!python model_main_tf2.py --model_dir=obj-det/trained-model-retnet50 --pipeline_config_path=obj-det/ssd_resnet50_v1_fpn_640x640_coco17_tpu-8/pipeline.config --sample_1_of_n_eval_examples=1 --logtostderr"
   ]
  },
  {
   "cell_type": "code",
   "execution_count": null,
   "metadata": {},
   "outputs": [],
   "source": [
    "# Code to export the trained model\n",
    "!python exporter_main_v2.py --input_type image_tensor --pipeline_config_path obj-det/ssd_resnet50_v1_fpn_640x640_coco17_tpu-8/pipeline.config --trained_checkpoint_dir obj-det/trained-model-retnet50/ --output_directory new_graph_retnet50 --use_side_inputs False"
   ]
  },
  {
   "cell_type": "code",
   "execution_count": 4,
   "metadata": {},
   "outputs": [
    {
     "name": "stdout",
     "output_type": "stream",
     "text": [
      "Loading model... Done! Took 1.4208478927612305 seconds\n"
     ]
    }
   ],
   "source": [
    "# Code block to retrieve the model from the checkpoint\n",
    "import time\n",
    "from object_detection.utils import label_map_util\n",
    "from object_detection.utils import config_util\n",
    "from object_detection.utils import visualization_utils as viz_utils\n",
    "from object_detection.builders import model_builder\n",
    "\n",
    "PATH_TO_CFG = \"new_graph_retnet50/pipeline.config\"\n",
    "PATH_TO_CKPT = \"new_graph_retnet50/checkpoint\"\n",
    "\n",
    "print('Loading model... ', end='')\n",
    "start_time = time.time()\n",
    "\n",
    "# Load pipeline config and build a detection model\n",
    "configs = config_util.get_configs_from_pipeline_file(PATH_TO_CFG)\n",
    "model_config = configs['model']\n",
    "detection_model = model_builder.build(model_config=model_config, is_training=False)\n",
    "\n",
    "# Restore checkpoint\n",
    "ckpt = tf.compat.v2.train.Checkpoint(model=detection_model)\n",
    "ckpt.restore(os.path.join(PATH_TO_CKPT, 'ckpt-0')).expect_partial()\n",
    "\n",
    "@tf.function\n",
    "def detect_fn(image):\n",
    "    \"\"\"Detect objects in image.\"\"\"\n",
    "\n",
    "    image, shapes = detection_model.preprocess(image)\n",
    "    prediction_dict = detection_model.predict(image, shapes)\n",
    "    detections = detection_model.postprocess(prediction_dict, shapes)\n",
    "\n",
    "    return detections\n",
    "\n",
    "end_time = time.time()\n",
    "elapsed_time = end_time - start_time\n",
    "print('Done! Took {} seconds'.format(elapsed_time))"
   ]
  },
  {
   "cell_type": "code",
   "execution_count": 5,
   "metadata": {},
   "outputs": [
    {
     "data": {
      "text/plain": [
       "object_detection.meta_architectures.ssd_meta_arch.SSDMetaArch"
      ]
     },
     "execution_count": 5,
     "metadata": {},
     "output_type": "execute_result"
    }
   ],
   "source": [
    "type(detection_model)"
   ]
  },
  {
   "cell_type": "code",
   "execution_count": 6,
   "metadata": {},
   "outputs": [],
   "source": []
  },
  {
   "cell_type": "code",
   "execution_count": 7,
   "metadata": {},
   "outputs": [],
   "source": []
  },
  {
   "cell_type": "code",
   "execution_count": 9,
   "metadata": {},
   "outputs": [
    {
     "name": "stdout",
     "output_type": "stream",
     "text": [
      "Running inference for obj-det\\Testing\\Test_GH_0.jpg... Done\n",
      "Running inference for obj-det\\Testing\\Test_GH_1.jpg... Done\n",
      "Running inference for obj-det\\Testing\\Test_GH_10.jpg... Done\n",
      "Running inference for obj-det\\Testing\\Test_GH_11.jpg... Done\n",
      "Running inference for obj-det\\Testing\\Test_GH_12.jpg... Done\n",
      "Running inference for obj-det\\Testing\\Test_GH_13.jpg... Done\n",
      "Running inference for obj-det\\Testing\\Test_GH_14.jpg... Done\n",
      "Running inference for obj-det\\Testing\\Test_GH_15.jpg... Done\n",
      "Running inference for obj-det\\Testing\\Test_GH_16.jpg... Done\n",
      "Running inference for obj-det\\Testing\\Test_GH_17.jpg... Done\n",
      "Running inference for obj-det\\Testing\\Test_GH_18.jpg... Done\n",
      "Running inference for obj-det\\Testing\\Test_GH_19.jpg... Done\n",
      "Running inference for obj-det\\Testing\\Test_GH_2.jpg... Done\n",
      "Running inference for obj-det\\Testing\\Test_GH_20.jpg... Done\n",
      "Running inference for obj-det\\Testing\\Test_GH_21.jpg... Done\n",
      "Running inference for obj-det\\Testing\\Test_GH_22.jpg... Done\n",
      "Running inference for obj-det\\Testing\\Test_GH_23.jpg... Done\n",
      "Running inference for obj-det\\Testing\\Test_GH_24.jpg... Done\n",
      "Running inference for obj-det\\Testing\\Test_GH_25.jpg... Done\n",
      "Running inference for obj-det\\Testing\\Test_GH_26.jpg... Done\n",
      "Running inference for obj-det\\Testing\\Test_GH_27.jpg... Done\n",
      "Running inference for obj-det\\Testing\\Test_GH_28.jpg... Done\n",
      "Running inference for obj-det\\Testing\\Test_GH_29.jpg... Done\n",
      "Running inference for obj-det\\Testing\\Test_GH_3.jpg... Done\n",
      "Running inference for obj-det\\Testing\\Test_GH_30.jpg... Done\n",
      "Running inference for obj-det\\Testing\\Test_GH_31.jpg... Done\n",
      "Running inference for obj-det\\Testing\\Test_GH_32.jpg... Done\n",
      "Running inference for obj-det\\Testing\\Test_GH_33.jpg... Done\n",
      "Running inference for obj-det\\Testing\\Test_GH_34.jpg... Done\n",
      "Running inference for obj-det\\Testing\\Test_GH_35.jpg... Done\n",
      "Running inference for obj-det\\Testing\\Test_GH_36.jpg... Done\n",
      "Running inference for obj-det\\Testing\\Test_GH_37.jpg... Done\n",
      "Running inference for obj-det\\Testing\\Test_GH_38.jpg... Done\n",
      "Running inference for obj-det\\Testing\\Test_GH_39.jpg... Done\n",
      "Running inference for obj-det\\Testing\\Test_GH_4.jpg... Done\n",
      "Running inference for obj-det\\Testing\\Test_GH_40.jpg... Done\n",
      "Running inference for obj-det\\Testing\\Test_GH_41.jpg... Done\n",
      "Running inference for obj-det\\Testing\\Test_GH_42.jpg... Done\n",
      "Running inference for obj-det\\Testing\\Test_GH_43.jpg... Done\n",
      "Running inference for obj-det\\Testing\\Test_GH_44.jpg... Done\n",
      "Running inference for obj-det\\Testing\\Test_GH_45.jpg... Done\n",
      "Running inference for obj-det\\Testing\\Test_GH_46.jpg... Done\n",
      "Running inference for obj-det\\Testing\\Test_GH_47.jpg... Done\n",
      "Running inference for obj-det\\Testing\\Test_GH_48.jpg... Done\n",
      "Running inference for obj-det\\Testing\\Test_GH_49.jpg... Done\n",
      "Running inference for obj-det\\Testing\\Test_GH_5.jpg... Done\n",
      "Running inference for obj-det\\Testing\\Test_GH_50.jpg... Done\n",
      "Running inference for obj-det\\Testing\\Test_GH_51.jpg... Done\n",
      "Running inference for obj-det\\Testing\\Test_GH_52.jpg... Done\n",
      "Running inference for obj-det\\Testing\\Test_GH_53.jpg... Done\n",
      "Running inference for obj-det\\Testing\\Test_GH_54.jpg... Done\n",
      "Running inference for obj-det\\Testing\\Test_GH_55.jpg... Done\n",
      "Running inference for obj-det\\Testing\\Test_GH_56.jpg... Done\n",
      "Running inference for obj-det\\Testing\\Test_GH_57.jpg... Done\n",
      "Running inference for obj-det\\Testing\\Test_GH_6.jpg... Done\n",
      "Running inference for obj-det\\Testing\\Test_GH_7.jpg... Done\n",
      "Running inference for obj-det\\Testing\\Test_GH_8.jpg... Done\n",
      "Running inference for obj-det\\Testing\\Test_GH_9.jpg... Done\n"
     ]
    }
   ],
   "source": [
    "import numpy as np\n",
    "from PIL import Image\n",
    "import matplotlib.pyplot as plt\n",
    "import warnings\n",
    "warnings.filterwarnings('ignore')   # Suppress Matplotlib warnings\n",
    "\n",
    "# Setting path to the image classes\n",
    "PATH_TO_LABELS = 'obj-det/Data/object-detection.pbtxt'\n",
    "category_index = label_map_util.create_category_index_from_labelmap(PATH_TO_LABELS, use_display_name=True)\n",
    "IMAGE_PATHS = [i for i in glob.glob('obj-det\\\\Testing\\\\*.{}'.format('jpg'))]\n",
    "\n",
    "def load_image_into_numpy_array(path):\n",
    "    \"\"\"Load an image from file into a numpy array.\n",
    "\n",
    "    Puts image into numpy array to feed into tensorflow graph.\n",
    "    Note that by convention we put it into a numpy array with shape\n",
    "    (height, width, channels), where channels=3 for RGB.\n",
    "\n",
    "    Args:\n",
    "      path: the file path to the image\n",
    "\n",
    "    Returns:\n",
    "      uint8 numpy array with shape (img_height, img_width, 3)\n",
    "    \"\"\"\n",
    "    return np.array(Image.open(path))\n",
    "\n",
    "\n",
    "for image_path in IMAGE_PATHS:\n",
    "\n",
    "    print('Running inference for {}... '.format(image_path), end='')\n",
    "\n",
    "    image_np = load_image_into_numpy_array(image_path)\n",
    "\n",
    "    input_tensor = tf.convert_to_tensor(np.expand_dims(image_np, 0), dtype=tf.float32)\n",
    "\n",
    "    # Predicting the boxes with the custom trained model\n",
    "    detections = detect_fn(input_tensor)\n",
    "\n",
    "    # All outputs are batches tensors.\n",
    "    # Convert to numpy arrays, and take index [0] to remove the batch dimension.\n",
    "    # We're only interested in the first num_detections.\n",
    "    num_detections = int(detections.pop('num_detections'))\n",
    "    detections = {key: value[0, :num_detections].numpy()\n",
    "                  for key, value in detections.items()}\n",
    "    detections['num_detections'] = num_detections\n",
    "\n",
    "    # detection_classes should be ints.\n",
    "    detections['detection_classes'] = detections['detection_classes'].astype(np.int64)\n",
    "\n",
    "    label_id_offset = 1\n",
    "    image_np_with_detections = image_np.copy()\n",
    "\n",
    "    # Visualizing the image and the predicted boxes\n",
    "    viz_utils.visualize_boxes_and_labels_on_image_array(\n",
    "            image_np_with_detections,\n",
    "            detections['detection_boxes'],\n",
    "            detections['detection_classes']+label_id_offset,\n",
    "            detections['detection_scores'],\n",
    "            category_index,\n",
    "            use_normalized_coordinates=True,\n",
    "            max_boxes_to_draw=200,\n",
    "            min_score_thresh=.30,\n",
    "            agnostic_mode=False)\n",
    "\n",
    "    plt.figure()\n",
    "    plt.imshow(image_np_with_detections)\n",
    "    print('Done')\n",
    "    # Saving the detection predictions\n",
    "    plt.savefig('test_pred_retnet50/{}_pred.png'.format(image_path.split('\\\\')[2].split('.')[0]))\n",
    "    plt.show()"
   ]
  }
 ],
 "metadata": {
  "colab": {
   "collapsed_sections": [],
   "name": "Cotton_Tip_Identification.ipynb",
   "provenance": []
  },
  "kernelspec": {
   "display_name": "Python 3",
   "language": "python",
   "name": "python3"
  },
  "language_info": {
   "codemirror_mode": {
    "name": "ipython",
    "version": 3
   },
   "file_extension": ".py",
   "mimetype": "text/x-python",
   "name": "python",
   "nbconvert_exporter": "python",
   "pygments_lexer": "ipython3",
   "version": "3.7.4"
  }
 },
 "nbformat": 4,
 "nbformat_minor": 4
}
